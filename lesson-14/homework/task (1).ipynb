{
 "cells": [
  {
   "cell_type": "code",
   "execution_count": 3,
   "id": "initial_id",
   "metadata": {
    "ExecuteTime": {
     "end_time": "2025-03-07T19:27:03.665539Z",
     "start_time": "2025-03-07T19:27:03.649521Z"
    },
    "collapsed": true
   },
   "outputs": [
    {
     "ename": "ModuleNotFoundError",
     "evalue": "No module named 'matplotlib'",
     "output_type": "error",
     "traceback": [
      "\u001b[1;31m---------------------------------------------------------------------------\u001b[0m",
      "\u001b[1;31mModuleNotFoundError\u001b[0m                       Traceback (most recent call last)",
      "Cell \u001b[1;32mIn[3], line 4\u001b[0m\n\u001b[0;32m      1\u001b[0m \u001b[38;5;66;03m#1\u001b[39;00m\n\u001b[0;32m      3\u001b[0m \u001b[38;5;28;01mimport\u001b[39;00m\u001b[38;5;250m \u001b[39m\u001b[38;5;21;01mnumpy\u001b[39;00m\u001b[38;5;250m \u001b[39m\u001b[38;5;28;01mas\u001b[39;00m\u001b[38;5;250m \u001b[39m\u001b[38;5;21;01mnp\u001b[39;00m\n\u001b[1;32m----> 4\u001b[0m \u001b[38;5;28;01mfrom\u001b[39;00m\u001b[38;5;250m \u001b[39m\u001b[38;5;21;01mmatplotlib\u001b[39;00m\u001b[38;5;250m \u001b[39m\u001b[38;5;28;01mimport\u001b[39;00m pyplot \u001b[38;5;28;01mas\u001b[39;00m plt\n\u001b[0;32m      7\u001b[0m \u001b[38;5;129m@np\u001b[39m\u001b[38;5;241m.\u001b[39mvectorize\n\u001b[0;32m      8\u001b[0m \u001b[38;5;28;01mdef\u001b[39;00m\u001b[38;5;250m \u001b[39m\u001b[38;5;21mf\u001b[39m(c):\n\u001b[0;32m      9\u001b[0m     \u001b[38;5;28;01mreturn\u001b[39;00m (c \u001b[38;5;241m-\u001b[39m \u001b[38;5;241m32\u001b[39m) \u001b[38;5;241m*\u001b[39m (\u001b[38;5;241m5\u001b[39m\u001b[38;5;241m/\u001b[39m\u001b[38;5;241m9\u001b[39m)\n",
      "\u001b[1;31mModuleNotFoundError\u001b[0m: No module named 'matplotlib'"
     ]
    }
   ],
   "source": [
    "#1\n",
    "\n",
    "import numpy as np\n",
    "from matplotlib import pyplot as plt\n",
    "\n",
    "\n",
    "@np.vectorize\n",
    "def f(c):\n",
    "    return (c - 32) * (5/9)\n",
    "\n",
    "temp_f = np.array([32, 68, 100, 212, 77])\n",
    "temp_c = f(temp_f)\n",
    "print([f\"{x:.2f}\" for x in temp_c])"
   ]
  },
  {
   "cell_type": "code",
   "execution_count": 16,
   "id": "34a9e7d78e6f12f6",
   "metadata": {
    "ExecuteTime": {
     "end_time": "2025-03-07T19:31:13.754420Z",
     "start_time": "2025-03-07T19:31:13.738226Z"
    }
   },
   "outputs": [
    {
     "name": "stdout",
     "output_type": "stream",
     "text": [
      "[  2   9  64 625]\n"
     ]
    }
   ],
   "source": [
    "#2\n",
    "@np.vectorize\n",
    "def to_power(x, y):\n",
    "    return np.power(x, y)\n",
    "\n",
    "numbers = np.array([2, 3, 4, 5])\n",
    "powers = np.array([1, 2, 3, 4])\n",
    "result = to_power(numbers, powers)\n",
    "print(result)"
   ]
  },
  {
   "cell_type": "markdown",
   "id": "56646a96e388a997",
   "metadata": {},
   "source": [
    "$$\n",
    "\\begin{cases}\n",
    "4x + 5y + 6z = 7 \\\\\n",
    "3x - y + z = 4 \\\\\n",
    "2x + y - 2z = 5\n",
    "\\end{cases}\n",
    "$$"
   ]
  },
  {
   "cell_type": "code",
   "execution_count": 23,
   "id": "92aa4e82a8b88967",
   "metadata": {
    "ExecuteTime": {
     "end_time": "2025-03-07T19:51:33.349737Z",
     "start_time": "2025-03-07T19:51:33.333668Z"
    }
   },
   "outputs": [
    {
     "name": "stdout",
     "output_type": "stream",
     "text": [
      "[ 1.7027027   0.62162162 -0.48648649]\n"
     ]
    }
   ],
   "source": [
    "#3\n",
    "\n",
    "#Coefficients\n",
    "A = np.array([[4, 5, 6],\n",
    "              [3, -1, 1],\n",
    "              [2, 1, -2]])\n",
    "#Constants\n",
    "B = np.array([7, 4, 5])\n",
    "\n",
    "solution = np.linalg.solve(A, B)\n",
    "print(solution)"
   ]
  },
  {
   "cell_type": "markdown",
   "id": "d02c5ce7685b8dd7",
   "metadata": {},
   "source": [
    "$$\n",
    "\\begin{cases}\n",
    "10I_1 - 2I_2 + 3I_3 = 12\\\\\n",
    "-2I_1 + 8I_2 - I_3 = -5\\\\\n",
    "3I_1 - I_2 + 6I_3 = 15\n",
    "\\end{cases}\n",
    "$$"
   ]
  },
  {
   "cell_type": "code",
   "execution_count": 50,
   "id": "4625da925d0767e0",
   "metadata": {
    "ExecuteTime": {
     "end_time": "2025-03-07T19:59:18.572111Z",
     "start_time": "2025-03-07T19:59:18.539045Z"
    }
   },
   "outputs": [
    {
     "data": {
      "text/plain": [
       "array([ 0.49, -0.23,  2.22])"
      ]
     },
     "execution_count": 50,
     "metadata": {},
     "output_type": "execute_result"
    }
   ],
   "source": [
    "#4\n",
    "\n",
    "#Coefficents\n",
    "C = np.array([\n",
    "    [10, -2, 3],\n",
    "    [-2, 8, -1],\n",
    "    [3, -1, 6]\n",
    "])\n",
    "\n",
    "#Constants\n",
    "D = np.array([12, -5, 15])\n",
    "solution2 = np.linalg.solve(C, D)\n",
    "print(np.round(solution2, 2))"
   ]
  },
  {
   "cell_type": "code",
   "execution_count": 83,
   "id": "f791f2c7661d4017",
   "metadata": {
    "ExecuteTime": {
     "end_time": "2025-03-07T20:36:17.084657Z",
     "start_time": "2025-03-07T20:36:16.767041Z"
    }
   },
   "outputs": [],
   "source": [
    "#5\n",
    "from PIL import Image\n",
    "\n",
    "#5.1\n",
    "#Flip function\n",
    "def flip_img_(img):\n",
    "    horizontal_flip = np.fliplr(img)\n",
    "    vertical_flip = np.flipud(img)\n",
    "    return horizontal_flip, vertical_flip\n",
    "\n",
    "#5.2\n",
    "#Add noise\n",
    "def add_noise(img_array, noise_level=30):\n",
    "    noise = np.random.randint(-noise_level, noise_level, img_array.shape, dtype=np.int16)\n",
    "    noisy_image = img_array.astype(np.int16) + noise\n",
    "    noisy_image = np.clip(noisy_image, 0, 255)\n",
    "    return noisy_image.astype(np.uint8)\n",
    "\n",
    "#5.3\n",
    "#brigthen\n",
    "def brighten_channel(img_array, channel=0, brightness=40):\n",
    "    img_bright = img_array.copy()\n",
    "    img_bright[..., channel] = np.clip(img_bright[..., channel] + brightness, 0, 255)\n",
    "    return img_bright\n",
    "\n",
    "#5.4\n",
    "#apply mask\n",
    "def apply_mask(img_array, mask_size=(100, 100)):\n",
    "    img_masked = img_array.copy()\n",
    "    h, w, _ = img_array.shape\n",
    "    cx, cy = w // 2, h // 2  # Find center\n",
    "    x1, y1 = cx - mask_size[0] // 2, cy - mask_size[1] // 2\n",
    "    x2, y2 = x1 + mask_size[0], y1 + mask_size[1]\n",
    "    img_masked[y1:y2, x1:x2] = (0, 0, 0)  # Set to black\n",
    "    return img_masked\n",
    "\n",
    "#orginal image\n",
    "location = 'images/birds.jpg'\n",
    "img = Image.open(location)\n",
    "img_array = np.array(img)\n",
    "\n",
    "#flipped ones\n",
    "horizontal_flip, vertical_flip = flip_img_(img)\n",
    "\n",
    "#added_noise\n",
    "img_with_noise_array = add_noise(img_array, 40)\n",
    "\n",
    "#brightened\n",
    "bright_red = brighten_channel(img_array, channel=0, brightness=40)\n",
    "\n",
    "#masked\n",
    "masked_image = apply_mask(img_array)\n",
    "\n",
    "\n",
    "#to save\n",
    "Image.fromarray(horizontal_flip).save(\"images/horizontal_flip.jpg\")\n",
    "Image.fromarray(vertical_flip).save(\"images/vertical_flip.jpg\")\n",
    "Image.fromarray(img_with_noise_array).save(\"images/noisy_image.jpg\")\n",
    "Image.fromarray(bright_red).save(\"images/bright_red.jpg\")\n",
    "Image.fromarray(masked_image).save(\"images/masked_image.jpg\")\n",
    "\n",
    "#to show\n",
    "Image.fromarray(horizontal_flip).show()\n",
    "Image.fromarray(vertical_flip).show()\n",
    "Image.fromarray(img_with_noise_array).show()\n",
    "Image.fromarray(bright_red).show()\n",
    "Image.fromarray(masked_image).show()\n",
    "\n",
    "\n"
   ]
  },
  {
   "cell_type": "code",
   "execution_count": null,
   "id": "9a18dc0f8ced99b",
   "metadata": {},
   "outputs": [],
   "source": []
  }
 ],
 "metadata": {
  "kernelspec": {
   "display_name": "Python 3",
   "language": "python",
   "name": "python3"
  },
  "language_info": {
   "codemirror_mode": {
    "name": "ipython",
    "version": 3
   },
   "file_extension": ".py",
   "mimetype": "text/x-python",
   "name": "python",
   "nbconvert_exporter": "python",
   "pygments_lexer": "ipython3",
   "version": "3.12.9"
  }
 },
 "nbformat": 4,
 "nbformat_minor": 5
}
