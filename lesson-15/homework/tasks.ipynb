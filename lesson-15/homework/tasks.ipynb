{
 "cells": [
  {
   "metadata": {},
   "cell_type": "raw",
   "source": "",
   "id": "65a2fd41d6b06caf"
  },
  {
   "cell_type": "code",
   "id": "initial_id",
   "metadata": {
    "collapsed": true,
    "ExecuteTime": {
     "end_time": "2025-03-19T11:41:00.603373Z",
     "start_time": "2025-03-19T11:41:00.312618Z"
    }
   },
   "source": [
    "import numpy as np\n",
    "#1\n",
    "array = np.arange(10, 50)\n",
    "print(array)\n",
    "#2\n",
    "array2 = np.arange(0, 9).reshape(3, 3)\n",
    "print(array2)\n",
    "\n",
    "#3\n",
    "array3 = np.eye(3, 3)\n",
    "print(array3)"
   ],
   "outputs": [
    {
     "ename": "ModuleNotFoundError",
     "evalue": "No module named 'numpy'",
     "output_type": "error",
     "traceback": [
      "\u001B[1;31m---------------------------------------------------------------------------\u001B[0m",
      "\u001B[1;31mModuleNotFoundError\u001B[0m                       Traceback (most recent call last)",
      "Cell \u001B[1;32mIn[1], line 1\u001B[0m\n\u001B[1;32m----> 1\u001B[0m \u001B[38;5;28;01mimport\u001B[39;00m\u001B[38;5;250m \u001B[39m\u001B[38;5;21;01mnumpy\u001B[39;00m\u001B[38;5;250m \u001B[39m\u001B[38;5;28;01mas\u001B[39;00m\u001B[38;5;250m \u001B[39m\u001B[38;5;21;01mnp\u001B[39;00m\n\u001B[0;32m      2\u001B[0m \u001B[38;5;66;03m#1\u001B[39;00m\n\u001B[0;32m      3\u001B[0m array \u001B[38;5;241m=\u001B[39m np\u001B[38;5;241m.\u001B[39marange(\u001B[38;5;241m10\u001B[39m, \u001B[38;5;241m50\u001B[39m)\n",
      "\u001B[1;31mModuleNotFoundError\u001B[0m: No module named 'numpy'"
     ]
    }
   ],
   "execution_count": 1
  },
  {
   "metadata": {
    "ExecuteTime": {
     "end_time": "2025-03-19T11:42:28.821693Z",
     "start_time": "2025-03-19T11:42:28.777721Z"
    }
   },
   "cell_type": "code",
   "source": "np.random.rand(3, 3, 3)",
   "id": "67582a8db2360048",
   "outputs": [
    {
     "ename": "NameError",
     "evalue": "name 'np' is not defined",
     "output_type": "error",
     "traceback": [
      "\u001B[1;31m---------------------------------------------------------------------------\u001B[0m",
      "\u001B[1;31mNameError\u001B[0m                                 Traceback (most recent call last)",
      "Cell \u001B[1;32mIn[2], line 1\u001B[0m\n\u001B[1;32m----> 1\u001B[0m \u001B[43mnp\u001B[49m\u001B[38;5;241m.\u001B[39mrandom\u001B[38;5;241m.\u001B[39mrand(\u001B[38;5;241m3\u001B[39m, \u001B[38;5;241m3\u001B[39m, \u001B[38;5;241m3\u001B[39m)\n",
      "\u001B[1;31mNameError\u001B[0m: name 'np' is not defined"
     ]
    }
   ],
   "execution_count": 2
  },
  {
   "metadata": {
    "ExecuteTime": {
     "end_time": "2025-03-19T11:43:18.013551Z",
     "start_time": "2025-03-19T11:43:17.991329Z"
    }
   },
   "cell_type": "code",
   "source": [
    "array5 = np.random.rand(10, 10)\n",
    "print(array5.min())\n",
    "array5.max()"
   ],
   "id": "11488bf9ed4471bc",
   "outputs": [
    {
     "ename": "NameError",
     "evalue": "name 'np' is not defined",
     "output_type": "error",
     "traceback": [
      "\u001B[1;31m---------------------------------------------------------------------------\u001B[0m",
      "\u001B[1;31mNameError\u001B[0m                                 Traceback (most recent call last)",
      "Cell \u001B[1;32mIn[3], line 1\u001B[0m\n\u001B[1;32m----> 1\u001B[0m array5 \u001B[38;5;241m=\u001B[39m \u001B[43mnp\u001B[49m\u001B[38;5;241m.\u001B[39mrandom\u001B[38;5;241m.\u001B[39mrand(\u001B[38;5;241m10\u001B[39m, \u001B[38;5;241m10\u001B[39m)\n\u001B[0;32m      2\u001B[0m \u001B[38;5;28mprint\u001B[39m(array5\u001B[38;5;241m.\u001B[39mmin())\n\u001B[0;32m      3\u001B[0m array5\u001B[38;5;241m.\u001B[39mmax()\n",
      "\u001B[1;31mNameError\u001B[0m: name 'np' is not defined"
     ]
    }
   ],
   "execution_count": 3
  },
  {
   "metadata": {
    "ExecuteTime": {
     "end_time": "2025-03-19T11:45:34.197231Z",
     "start_time": "2025-03-19T11:45:34.166731Z"
    }
   },
   "cell_type": "code",
   "source": [
    "array6 = np.random.rand(30)\n",
    "print(array6.mean())"
   ],
   "id": "865bf13722c84c1a",
   "outputs": [
    {
     "ename": "NameError",
     "evalue": "name 'np' is not defined",
     "output_type": "error",
     "traceback": [
      "\u001B[1;31m---------------------------------------------------------------------------\u001B[0m",
      "\u001B[1;31mNameError\u001B[0m                                 Traceback (most recent call last)",
      "Cell \u001B[1;32mIn[4], line 1\u001B[0m\n\u001B[1;32m----> 1\u001B[0m array6 \u001B[38;5;241m=\u001B[39m \u001B[43mnp\u001B[49m\u001B[38;5;241m.\u001B[39mrandom\u001B[38;5;241m.\u001B[39mrand(\u001B[38;5;241m30\u001B[39m)\n\u001B[0;32m      2\u001B[0m \u001B[38;5;28mprint\u001B[39m(array6\u001B[38;5;241m.\u001B[39mmean())\n",
      "\u001B[1;31mNameError\u001B[0m: name 'np' is not defined"
     ]
    }
   ],
   "execution_count": 4
  },
  {
   "metadata": {},
   "cell_type": "code",
   "outputs": [],
   "execution_count": null,
   "source": [
    "array7 = np.random.rand(5, 5)\n",
    "norm = (array7 - array7.mean())/(array7.max()-array7.min())\n",
    "norm"
   ],
   "id": "79a238b57a47c55"
  },
  {
   "metadata": {},
   "cell_type": "code",
   "outputs": [],
   "execution_count": null,
   "source": [
    "matrix1 = np.random.rand(5, 3)\n",
    "matrix2 = np.random.rand(3, 2)\n",
    "result = np.dot(matrix1, matrix2)\n",
    "result"
   ],
   "id": "bbc0ecf2298542e0"
  },
  {
   "metadata": {},
   "cell_type": "code",
   "outputs": [],
   "execution_count": null,
   "source": [
    "matrix3 = np.random.rand(3, 3)\n",
    "matrix4 = np.random.rand(3, 3)\n",
    "np.dot(matrix4, matrix3)"
   ],
   "id": "880163699de3c70b"
  },
  {
   "metadata": {},
   "cell_type": "code",
   "outputs": [],
   "execution_count": null,
   "source": [
    "matrix5 = np.arange(16).reshape(4, 4)\n",
    "matrix5.transpose()"
   ],
   "id": "256c1d5f4b9f66c0"
  },
  {
   "metadata": {},
   "cell_type": "code",
   "outputs": [],
   "execution_count": null,
   "source": "np.linalg.det(matrix3)",
   "id": "c640d9285aeaae9e"
  },
  {
   "metadata": {},
   "cell_type": "code",
   "outputs": [],
   "execution_count": null,
   "source": [
    "matrix_A = np.random.rand(3, 4)\n",
    "matrix_B = np.random.rand(4, 3)\n",
    "\n",
    "result = np.dot(matrix_A, matrix_B)\n",
    "result"
   ],
   "id": "187dbec6adc43d89"
  },
  {
   "metadata": {},
   "cell_type": "code",
   "outputs": [],
   "execution_count": null,
   "source": [
    "matrix = np.random.randint(1, 10, (3, 3))\n",
    "vector = np.random.randint(1, 10, (3, 1))\n",
    "\n",
    "product = np.dot(matrix, vector)"
   ],
   "id": "d1de8a8b7e1e5a5d"
  },
  {
   "metadata": {},
   "cell_type": "code",
   "outputs": [],
   "execution_count": null,
   "source": "np.linalg.solve(matrix, vector)",
   "id": "6c8edd4922194a3f"
  },
  {
   "metadata": {},
   "cell_type": "code",
   "outputs": [],
   "execution_count": null,
   "source": [
    "matrix6 = np.random.randint(1, 26, (5, 5))\n",
    "#print(matrix6)\n",
    "print(matrix6.sum(axis=0))\n",
    "print(matrix6.sum(axis=1))"
   ],
   "id": "50d66829ad4c8e0e"
  }
 ],
 "metadata": {
  "kernelspec": {
   "display_name": "Python 3",
   "language": "python",
   "name": "python3"
  },
  "language_info": {
   "codemirror_mode": {
    "name": "ipython",
    "version": 2
   },
   "file_extension": ".py",
   "mimetype": "text/x-python",
   "name": "python",
   "nbconvert_exporter": "python",
   "pygments_lexer": "ipython2",
   "version": "2.7.6"
  }
 },
 "nbformat": 4,
 "nbformat_minor": 5
}
